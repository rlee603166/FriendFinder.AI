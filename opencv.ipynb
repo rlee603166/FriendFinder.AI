{
 "cells": [
  {
   "cell_type": "code",
   "execution_count": 15,
   "id": "413e53b8-cd84-4359-9f50-4ada2238c97e",
   "metadata": {},
   "outputs": [],
   "source": [
    "import cv2\n",
    "import os\n",
    "import tensorflow as tf\n",
    "from matplotlib import pyplot as plt"
   ]
  },
  {
   "cell_type": "code",
   "execution_count": 8,
   "id": "2a09565a-d6fa-4d88-86ab-8b384a950304",
   "metadata": {},
   "outputs": [],
   "source": [
    "image = \"IMG_1580.jpg\"\n",
    "image_path = os.path.join(\"images\", image)"
   ]
  },
  {
   "cell_type": "code",
   "execution_count": 13,
   "id": "66c3f42c-9895-45b6-ad43-bbcc88722b7a",
   "metadata": {},
   "outputs": [],
   "source": [
    "byte_img = tf.io.read_file(image_path)\n",
    "# Load in the image \n",
    "img = tf.io.decode_jpeg(byte_img)"
   ]
  },
  {
   "cell_type": "code",
   "execution_count": 22,
   "id": "4ee3fbd1-ad4c-4225-9e2e-3a61ab10587a",
   "metadata": {},
   "outputs": [],
   "source": [
    "img = cv2.imread(image_path)"
   ]
  },
  {
   "cell_type": "code",
   "execution_count": 27,
   "id": "8a4ac282-f336-4402-ad38-665f6e53d0c0",
   "metadata": {},
   "outputs": [],
   "source": [
    "img = cv2.resize(img, (105, 105))"
   ]
  },
  {
   "cell_type": "code",
   "execution_count": 30,
   "id": "f0221658-0499-4a81-9ae1-0b731a28e361",
   "metadata": {},
   "outputs": [],
   "source": [
    "cv2.imshow(\"image\", img)\n",
    "cv2.waitKey(0)\n",
    "cv2.destroyAllWindows()"
   ]
  },
  {
   "cell_type": "code",
   "execution_count": 31,
   "id": "86cefe01-26c8-45d2-9f84-4e28fcab4600",
   "metadata": {},
   "outputs": [],
   "source": [
    "img_tensor = tf.convert_to_tensor(img, dtype=tf.float32)\n",
    "\n",
    "img_tensor = tf.image.resize(img_tensor, [900,900])\n",
    "\n",
    "img_tensor = img_tensor.numpy().astype(\"uint8\")\n",
    "\n",
    "cv2.imshow(\"image\", img_tensor)\n",
    "cv2.waitKey(0)\n",
    "cv2.destroyAllWindows()"
   ]
  },
  {
   "cell_type": "code",
   "execution_count": null,
   "id": "209a5f9d-4704-4c3b-a375-305975a54a79",
   "metadata": {},
   "outputs": [],
   "source": []
  }
 ],
 "metadata": {
  "kernelspec": {
   "display_name": "Python 3 (ipykernel)",
   "language": "python",
   "name": "python3"
  },
  "language_info": {
   "codemirror_mode": {
    "name": "ipython",
    "version": 3
   },
   "file_extension": ".py",
   "mimetype": "text/x-python",
   "name": "python",
   "nbconvert_exporter": "python",
   "pygments_lexer": "ipython3",
   "version": "3.12.2"
  }
 },
 "nbformat": 4,
 "nbformat_minor": 5
}
